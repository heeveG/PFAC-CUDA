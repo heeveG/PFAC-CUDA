{
 "cells": [
  {
   "cell_type": "code",
   "execution_count": 12,
   "metadata": {
    "scrolled": true
   },
   "outputs": [
    {
     "name": "stdout",
     "output_type": "stream",
     "text": [
      "Defaulting to user installation because normal site-packages is not writeable\n",
      "Requirement already satisfied: ahocorapy in /home/heeve/.local/lib/python3.8/site-packages (1.6.1)\n",
      "Requirement already satisfied: future in /usr/lib/python3/dist-packages (from ahocorapy) (0.18.2)\n",
      "\u001b[33mWARNING: You are using pip version 20.2.2; however, version 22.1.1 is available.\n",
      "You should consider upgrading via the '/usr/bin/python3 -m pip install --upgrade pip' command.\u001b[0m\n",
      "Note: you may need to restart the kernel to use updated packages.\n"
     ]
    }
   ],
   "source": [
    "pip install ahocorapy"
   ]
  },
  {
   "cell_type": "code",
   "execution_count": 13,
   "metadata": {},
   "outputs": [],
   "source": [
    "from ahocorapy.keywordtree import KeywordTree\n",
    "import re\n",
    "import csv"
   ]
  },
  {
   "cell_type": "code",
   "execution_count": 14,
   "metadata": {},
   "outputs": [],
   "source": [
    "kwtree = KeywordTree(case_insensitive=True)"
   ]
  },
  {
   "cell_type": "code",
   "execution_count": 15,
   "metadata": {},
   "outputs": [],
   "source": [
    "files = [\"../data/2600-0.txt\", \"../data/2701-0.txt\", \"../data/35-0.txt\", \"../data/84-0.txt\", \"../data/8800.txt\",\n",
    "            \"../data/pg1727.txt\", \"../data/pg55.txt\", \"../data/pg6130.txt\", \"../data/pg996.txt\", \"../data/1342-0.txt\"]"
   ]
  },
  {
   "cell_type": "code",
   "execution_count": 16,
   "metadata": {},
   "outputs": [],
   "source": [
    "data = \"\"\n",
    "regex = re.compile('[^a-zA-Z\\\\s]')\n",
    "\n",
    "for f in files:\n",
    "    with open(f, 'r') as file:\n",
    "        data += regex.sub(' ', file.read().replace('\\n', ' '))"
   ]
  },
  {
   "cell_type": "code",
   "execution_count": 17,
   "metadata": {},
   "outputs": [],
   "source": [
    "for word in data.split():\n",
    "    kwtree.add(word)\n",
    "    \n",
    "kwtree.finalize()\n",
    "\n",
    "results = kwtree.search_all(data)"
   ]
  },
  {
   "cell_type": "code",
   "execution_count": 18,
   "metadata": {},
   "outputs": [],
   "source": [
    "patterns_dict = dict()\n",
    "for res in results:\n",
    "    if res[0].lower() in patterns_dict:\n",
    "        patterns_dict[res[0].lower()] += 1\n",
    "    else:\n",
    "        patterns_dict[res[0].lower()] = 1"
   ]
  },
  {
   "cell_type": "code",
   "execution_count": 19,
   "metadata": {},
   "outputs": [],
   "source": [
    "with open('results.csv', 'w') as f:\n",
    "    for key in patterns_dict.keys():\n",
    "        f.write(\"%s,%s\\n\"%(key,patterns_dict[key]))"
   ]
  }
 ],
 "metadata": {
  "kernelspec": {
   "display_name": "Python 3",
   "language": "python",
   "name": "python3"
  },
  "language_info": {
   "codemirror_mode": {
    "name": "ipython",
    "version": 3
   },
   "file_extension": ".py",
   "mimetype": "text/x-python",
   "name": "python",
   "nbconvert_exporter": "python",
   "pygments_lexer": "ipython3",
   "version": "3.8.10"
  }
 },
 "nbformat": 4,
 "nbformat_minor": 4
}
